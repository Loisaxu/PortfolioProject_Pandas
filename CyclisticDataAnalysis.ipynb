{
 "cells": [
  {
   "cell_type": "markdown",
   "id": "9accf9df-9ed1-4a8f-8b91-e06cd0ecddbc",
   "metadata": {},
   "source": [
    "### Bike Share Analysis"
   ]
  },
  {
   "cell_type": "markdown",
   "id": "49e5155e-c148-4b2d-b78a-31754bf139ad",
   "metadata": {},
   "source": [
    "#### Import Necessary Libraries"
   ]
  },
  {
   "cell_type": "code",
   "execution_count": 1,
   "id": "2d534d5c-6e06-4dc6-99e3-9a6283c6f1a9",
   "metadata": {},
   "outputs": [],
   "source": [
    "import pandas as pd\n",
    "import datetime as dt\n",
    "import matplotlib.pyplot as plt"
   ]
  },
  {
   "cell_type": "markdown",
   "id": "bb2a1449-d5e0-4a3b-9752-0bfa29e7ea26",
   "metadata": {},
   "source": [
    "#### Task #1: Read the xlsx file into a dataframe"
   ]
  },
  {
   "cell_type": "code",
   "execution_count": 2,
   "id": "63c4e478-e546-4d61-9be5-4453d871159a",
   "metadata": {},
   "outputs": [],
   "source": [
    "bikes = pd.read_excel('cyclistic_bikes_trips.xlsx', index_col= [0])"
   ]
  },
  {
   "cell_type": "code",
   "execution_count": 42,
   "id": "9e9722bc-f6b7-45ff-921b-1ad0721af40d",
   "metadata": {},
   "outputs": [],
   "source": [
    "# Check for NaN \n",
    "bikes[bikes.isnull().any(axis=1)]\n",
    "\n",
    "bikes['endStationId'] = bikes['endStationId'].fillna(0).astype(int)"
   ]
  },
  {
   "cell_type": "code",
   "execution_count": 54,
   "id": "ce649dbb-d420-42d1-ae36-844429ce6c03",
   "metadata": {},
   "outputs": [
    {
     "data": {
      "text/html": [
       "<div>\n",
       "<style scoped>\n",
       "    .dataframe tbody tr th:only-of-type {\n",
       "        vertical-align: middle;\n",
       "    }\n",
       "\n",
       "    .dataframe tbody tr th {\n",
       "        vertical-align: top;\n",
       "    }\n",
       "\n",
       "    .dataframe thead th {\n",
       "        text-align: right;\n",
       "    }\n",
       "</style>\n",
       "<table border=\"1\" class=\"dataframe\">\n",
       "  <thead>\n",
       "    <tr style=\"text-align: right;\">\n",
       "      <th></th>\n",
       "      <th>rideId</th>\n",
       "      <th>rideType</th>\n",
       "      <th>startedTime</th>\n",
       "      <th>endedTime</th>\n",
       "      <th>tripDuration</th>\n",
       "      <th>startStationName</th>\n",
       "      <th>startStationId</th>\n",
       "      <th>endStationName</th>\n",
       "      <th>endStationId</th>\n",
       "      <th>startLatitude</th>\n",
       "      <th>startLongitude</th>\n",
       "      <th>endLatitude</th>\n",
       "      <th>endLongitude</th>\n",
       "      <th>isMember</th>\n",
       "      <th>weekday</th>\n",
       "      <th>hours</th>\n",
       "    </tr>\n",
       "  </thead>\n",
       "  <tbody>\n",
       "    <tr>\n",
       "      <th>0</th>\n",
       "      <td>EACB19130B0CDA4A</td>\n",
       "      <td>docked_bike</td>\n",
       "      <td>2020-01-21 20:06:59</td>\n",
       "      <td>2020-01-21 20:14:30</td>\n",
       "      <td>451</td>\n",
       "      <td>Western Ave &amp; Leland Ave</td>\n",
       "      <td>239</td>\n",
       "      <td>Clark St &amp; Leland Ave</td>\n",
       "      <td>326</td>\n",
       "      <td>41.9665</td>\n",
       "      <td>-87.6884</td>\n",
       "      <td>41.9671</td>\n",
       "      <td>-87.6674</td>\n",
       "      <td>Yes</td>\n",
       "      <td>Tuesday</td>\n",
       "      <td>20</td>\n",
       "    </tr>\n",
       "    <tr>\n",
       "      <th>1</th>\n",
       "      <td>8FED874C809DC021</td>\n",
       "      <td>docked_bike</td>\n",
       "      <td>2020-01-30 14:22:39</td>\n",
       "      <td>2020-01-30 14:26:22</td>\n",
       "      <td>223</td>\n",
       "      <td>Clark St &amp; Montrose Ave</td>\n",
       "      <td>234</td>\n",
       "      <td>Southport Ave &amp; Irving Park Rd</td>\n",
       "      <td>318</td>\n",
       "      <td>41.9616</td>\n",
       "      <td>-87.6660</td>\n",
       "      <td>41.9542</td>\n",
       "      <td>-87.6644</td>\n",
       "      <td>Yes</td>\n",
       "      <td>Thursday</td>\n",
       "      <td>14</td>\n",
       "    </tr>\n",
       "    <tr>\n",
       "      <th>2</th>\n",
       "      <td>789F3C21E472CA96</td>\n",
       "      <td>docked_bike</td>\n",
       "      <td>2020-01-09 19:29:26</td>\n",
       "      <td>2020-01-09 19:32:17</td>\n",
       "      <td>171</td>\n",
       "      <td>Broadway &amp; Belmont Ave</td>\n",
       "      <td>296</td>\n",
       "      <td>Wilton Ave &amp; Belmont Ave</td>\n",
       "      <td>117</td>\n",
       "      <td>41.9401</td>\n",
       "      <td>-87.6455</td>\n",
       "      <td>41.9402</td>\n",
       "      <td>-87.6530</td>\n",
       "      <td>Yes</td>\n",
       "      <td>Thursday</td>\n",
       "      <td>19</td>\n",
       "    </tr>\n",
       "    <tr>\n",
       "      <th>3</th>\n",
       "      <td>C9A388DAC6ABF313</td>\n",
       "      <td>docked_bike</td>\n",
       "      <td>2020-01-06 16:17:07</td>\n",
       "      <td>2020-01-06 16:25:56</td>\n",
       "      <td>529</td>\n",
       "      <td>Clark St &amp; Randolph St</td>\n",
       "      <td>51</td>\n",
       "      <td>Fairbanks Ct &amp; Grand Ave</td>\n",
       "      <td>24</td>\n",
       "      <td>41.8846</td>\n",
       "      <td>-87.6319</td>\n",
       "      <td>41.8918</td>\n",
       "      <td>-87.6206</td>\n",
       "      <td>Yes</td>\n",
       "      <td>Monday</td>\n",
       "      <td>16</td>\n",
       "    </tr>\n",
       "    <tr>\n",
       "      <th>4</th>\n",
       "      <td>943BC3CBECCFD662</td>\n",
       "      <td>docked_bike</td>\n",
       "      <td>2020-01-30 08:37:16</td>\n",
       "      <td>2020-01-30 08:42:48</td>\n",
       "      <td>332</td>\n",
       "      <td>Clinton St &amp; Lake St</td>\n",
       "      <td>66</td>\n",
       "      <td>Wells St &amp; Hubbard St</td>\n",
       "      <td>212</td>\n",
       "      <td>41.8856</td>\n",
       "      <td>-87.6418</td>\n",
       "      <td>41.8899</td>\n",
       "      <td>-87.6343</td>\n",
       "      <td>Yes</td>\n",
       "      <td>Thursday</td>\n",
       "      <td>8</td>\n",
       "    </tr>\n",
       "  </tbody>\n",
       "</table>\n",
       "</div>"
      ],
      "text/plain": [
       "             rideId     rideType         startedTime           endedTime  \\\n",
       "0  EACB19130B0CDA4A  docked_bike 2020-01-21 20:06:59 2020-01-21 20:14:30   \n",
       "1  8FED874C809DC021  docked_bike 2020-01-30 14:22:39 2020-01-30 14:26:22   \n",
       "2  789F3C21E472CA96  docked_bike 2020-01-09 19:29:26 2020-01-09 19:32:17   \n",
       "3  C9A388DAC6ABF313  docked_bike 2020-01-06 16:17:07 2020-01-06 16:25:56   \n",
       "4  943BC3CBECCFD662  docked_bike 2020-01-30 08:37:16 2020-01-30 08:42:48   \n",
       "\n",
       "   tripDuration          startStationName  startStationId  \\\n",
       "0           451  Western Ave & Leland Ave             239   \n",
       "1           223   Clark St & Montrose Ave             234   \n",
       "2           171    Broadway & Belmont Ave             296   \n",
       "3           529    Clark St & Randolph St              51   \n",
       "4           332      Clinton St & Lake St              66   \n",
       "\n",
       "                   endStationName  endStationId  startLatitude  \\\n",
       "0           Clark St & Leland Ave           326        41.9665   \n",
       "1  Southport Ave & Irving Park Rd           318        41.9616   \n",
       "2        Wilton Ave & Belmont Ave           117        41.9401   \n",
       "3        Fairbanks Ct & Grand Ave            24        41.8846   \n",
       "4           Wells St & Hubbard St           212        41.8856   \n",
       "\n",
       "   startLongitude  endLatitude  endLongitude isMember   weekday  hours  \n",
       "0        -87.6884      41.9671      -87.6674      Yes   Tuesday     20  \n",
       "1        -87.6660      41.9542      -87.6644      Yes  Thursday     14  \n",
       "2        -87.6455      41.9402      -87.6530      Yes  Thursday     19  \n",
       "3        -87.6319      41.8918      -87.6206      Yes    Monday     16  \n",
       "4        -87.6418      41.8899      -87.6343      Yes  Thursday      8  "
      ]
     },
     "execution_count": 54,
     "metadata": {},
     "output_type": "execute_result"
    }
   ],
   "source": [
    "bikes.head()"
   ]
  },
  {
   "cell_type": "markdown",
   "id": "e455112d-646d-4561-8f96-bd6b90d17cfb",
   "metadata": {},
   "source": [
    "#### Task #2: What is the average trip duration for each weekdays? How about the longest?"
   ]
  },
  {
   "cell_type": "code",
   "execution_count": 3,
   "id": "c7c962c9-9a60-4a3e-9cee-ea68d7390326",
   "metadata": {},
   "outputs": [],
   "source": [
    "bikes[['startedTime','endedTime']] = bikes[['startedTime','endedTime']].apply(pd.to_datetime)"
   ]
  },
  {
   "cell_type": "code",
   "execution_count": 4,
   "id": "ae18db91-b9f2-485c-87e8-5f2877b640fc",
   "metadata": {},
   "outputs": [],
   "source": [
    "bikes['tripDuration'] = (bikes['endedTime'] - bikes['startedTime']).dt.total_seconds().astype(int)"
   ]
  },
  {
   "cell_type": "code",
   "execution_count": 5,
   "id": "ddb1be45-8492-4847-a3fb-b59625d0ee17",
   "metadata": {},
   "outputs": [],
   "source": [
    "col_to_move = bikes.pop('tripDuration')\n",
    "bikes.insert(4, 'tripDuration', col_to_move)"
   ]
  },
  {
   "cell_type": "code",
   "execution_count": 6,
   "id": "e00c1eff-be5a-4851-8385-500df54aee33",
   "metadata": {},
   "outputs": [],
   "source": [
    "bikes['weekday'] = bikes['startedTime'].dt.day_name()"
   ]
  },
  {
   "cell_type": "code",
   "execution_count": 7,
   "id": "ab6ae73c-235d-4b05-ab07-efb77e5e7443",
   "metadata": {},
   "outputs": [],
   "source": [
    "result = bikes.groupby('weekday')['tripDuration'].mean()"
   ]
  },
  {
   "cell_type": "code",
   "execution_count": 8,
   "id": "3f6cb85f-8022-42cb-86bf-41623a0505ab",
   "metadata": {},
   "outputs": [],
   "source": [
    "custom_order = ['Monday', 'Tuesday', 'Wednesday', 'Thursday', 'Friday', 'Saturday', 'Sunday']\n",
    "result = result.reindex(custom_order)"
   ]
  },
  {
   "cell_type": "code",
   "execution_count": 9,
   "id": "3c0b5040-ddea-4734-9746-20e0cf376c45",
   "metadata": {},
   "outputs": [
    {
     "data": {
      "text/plain": [
       "weekday\n",
       "Monday       1044.372683\n",
       "Tuesday      1000.042422\n",
       "Wednesday    1022.034358\n",
       "Thursday     1200.816374\n",
       "Friday       1297.430378\n",
       "Saturday     1942.441544\n",
       "Sunday       2343.157561\n",
       "Name: tripDuration, dtype: float64"
      ]
     },
     "execution_count": 9,
     "metadata": {},
     "output_type": "execute_result"
    }
   ],
   "source": [
    "result"
   ]
  },
  {
   "cell_type": "code",
   "execution_count": 11,
   "id": "ea366085-93a7-4b36-a95e-d9115c239c31",
   "metadata": {},
   "outputs": [
    {
     "data": {
      "image/png": "[encoded data removed]",
      "text/plain": [
       "<Figure size 640x480 with 1 Axes>"
      ]
     },
     "metadata": {},
     "output_type": "display_data"
    }
   ],
   "source": [
    "plt.plot(result, marker = 'o', linestyle='-')\n",
    "plt.title('Average Trip Duration by Weeday')\n",
    "plt.ylabel('Duration (Seconds)')\n",
    "plt.show()"
   ]
  },
  {
   "cell_type": "markdown",
   "id": "23d87f88-00f6-4386-89dc-1671780c8fc7",
   "metadata": {},
   "source": [
    "#### Task #3: What is the most popular hour for riding bikes?"
   ]
  },
  {
   "cell_type": "code",
   "execution_count": 12,
   "id": "1ebed9f5-5f52-4b77-8d6a-b171be75f598",
   "metadata": {},
   "outputs": [],
   "source": [
    "bikes['hours'] = bikes['startedTime'].dt.hour"
   ]
  },
  {
   "cell_type": "code",
   "execution_count": 13,
   "id": "7237656e-ee5d-428f-8ca9-953ba7bc71e4",
   "metadata": {},
   "outputs": [
    {
     "data": {
      "text/html": [
       "<div>\n",
       "<style scoped>\n",
       "    .dataframe tbody tr th:only-of-type {\n",
       "        vertical-align: middle;\n",
       "    }\n",
       "\n",
       "    .dataframe tbody tr th {\n",
       "        vertical-align: top;\n",
       "    }\n",
       "\n",
       "    .dataframe thead th {\n",
       "        text-align: right;\n",
       "    }\n",
       "</style>\n",
       "<table border=\"1\" class=\"dataframe\">\n",
       "  <thead>\n",
       "    <tr style=\"text-align: right;\">\n",
       "      <th></th>\n",
       "      <th>rideId</th>\n",
       "      <th>rideType</th>\n",
       "      <th>startedTime</th>\n",
       "      <th>endedTime</th>\n",
       "      <th>tripDuration</th>\n",
       "      <th>startStationName</th>\n",
       "      <th>startStationId</th>\n",
       "      <th>endStationName</th>\n",
       "      <th>endStationId</th>\n",
       "      <th>startLatitude</th>\n",
       "      <th>startLongitude</th>\n",
       "      <th>endLatitude</th>\n",
       "      <th>endLongitude</th>\n",
       "      <th>isMember</th>\n",
       "      <th>weekday</th>\n",
       "      <th>hours</th>\n",
       "    </tr>\n",
       "  </thead>\n",
       "  <tbody>\n",
       "    <tr>\n",
       "      <th>0</th>\n",
       "      <td>EACB19130B0CDA4A</td>\n",
       "      <td>docked_bike</td>\n",
       "      <td>2020-01-21 20:06:59</td>\n",
       "      <td>2020-01-21 20:14:30</td>\n",
       "      <td>451</td>\n",
       "      <td>Western Ave &amp; Leland Ave</td>\n",
       "      <td>239</td>\n",
       "      <td>Clark St &amp; Leland Ave</td>\n",
       "      <td>326.0</td>\n",
       "      <td>41.9665</td>\n",
       "      <td>-87.6884</td>\n",
       "      <td>41.9671</td>\n",
       "      <td>-87.6674</td>\n",
       "      <td>Yes</td>\n",
       "      <td>Tuesday</td>\n",
       "      <td>20</td>\n",
       "    </tr>\n",
       "    <tr>\n",
       "      <th>1</th>\n",
       "      <td>8FED874C809DC021</td>\n",
       "      <td>docked_bike</td>\n",
       "      <td>2020-01-30 14:22:39</td>\n",
       "      <td>2020-01-30 14:26:22</td>\n",
       "      <td>223</td>\n",
       "      <td>Clark St &amp; Montrose Ave</td>\n",
       "      <td>234</td>\n",
       "      <td>Southport Ave &amp; Irving Park Rd</td>\n",
       "      <td>318.0</td>\n",
       "      <td>41.9616</td>\n",
       "      <td>-87.6660</td>\n",
       "      <td>41.9542</td>\n",
       "      <td>-87.6644</td>\n",
       "      <td>Yes</td>\n",
       "      <td>Thursday</td>\n",
       "      <td>14</td>\n",
       "    </tr>\n",
       "    <tr>\n",
       "      <th>2</th>\n",
       "      <td>789F3C21E472CA96</td>\n",
       "      <td>docked_bike</td>\n",
       "      <td>2020-01-09 19:29:26</td>\n",
       "      <td>2020-01-09 19:32:17</td>\n",
       "      <td>171</td>\n",
       "      <td>Broadway &amp; Belmont Ave</td>\n",
       "      <td>296</td>\n",
       "      <td>Wilton Ave &amp; Belmont Ave</td>\n",
       "      <td>117.0</td>\n",
       "      <td>41.9401</td>\n",
       "      <td>-87.6455</td>\n",
       "      <td>41.9402</td>\n",
       "      <td>-87.6530</td>\n",
       "      <td>Yes</td>\n",
       "      <td>Thursday</td>\n",
       "      <td>19</td>\n",
       "    </tr>\n",
       "    <tr>\n",
       "      <th>3</th>\n",
       "      <td>C9A388DAC6ABF313</td>\n",
       "      <td>docked_bike</td>\n",
       "      <td>2020-01-06 16:17:07</td>\n",
       "      <td>2020-01-06 16:25:56</td>\n",
       "      <td>529</td>\n",
       "      <td>Clark St &amp; Randolph St</td>\n",
       "      <td>51</td>\n",
       "      <td>Fairbanks Ct &amp; Grand Ave</td>\n",
       "      <td>24.0</td>\n",
       "      <td>41.8846</td>\n",
       "      <td>-87.6319</td>\n",
       "      <td>41.8918</td>\n",
       "      <td>-87.6206</td>\n",
       "      <td>Yes</td>\n",
       "      <td>Monday</td>\n",
       "      <td>16</td>\n",
       "    </tr>\n",
       "    <tr>\n",
       "      <th>4</th>\n",
       "      <td>943BC3CBECCFD662</td>\n",
       "      <td>docked_bike</td>\n",
       "      <td>2020-01-30 08:37:16</td>\n",
       "      <td>2020-01-30 08:42:48</td>\n",
       "      <td>332</td>\n",
       "      <td>Clinton St &amp; Lake St</td>\n",
       "      <td>66</td>\n",
       "      <td>Wells St &amp; Hubbard St</td>\n",
       "      <td>212.0</td>\n",
       "      <td>41.8856</td>\n",
       "      <td>-87.6418</td>\n",
       "      <td>41.8899</td>\n",
       "      <td>-87.6343</td>\n",
       "      <td>Yes</td>\n",
       "      <td>Thursday</td>\n",
       "      <td>8</td>\n",
       "    </tr>\n",
       "  </tbody>\n",
       "</table>\n",
       "</div>"
      ],
      "text/plain": [
       "             rideId     rideType         startedTime           endedTime  \\\n",
       "0  EACB19130B0CDA4A  docked_bike 2020-01-21 20:06:59 2020-01-21 20:14:30   \n",
       "1  8FED874C809DC021  docked_bike 2020-01-30 14:22:39 2020-01-30 14:26:22   \n",
       "2  789F3C21E472CA96  docked_bike 2020-01-09 19:29:26 2020-01-09 19:32:17   \n",
       "3  C9A388DAC6ABF313  docked_bike 2020-01-06 16:17:07 2020-01-06 16:25:56   \n",
       "4  943BC3CBECCFD662  docked_bike 2020-01-30 08:37:16 2020-01-30 08:42:48   \n",
       "\n",
       "   tripDuration          startStationName  startStationId  \\\n",
       "0           451  Western Ave & Leland Ave             239   \n",
       "1           223   Clark St & Montrose Ave             234   \n",
       "2           171    Broadway & Belmont Ave             296   \n",
       "3           529    Clark St & Randolph St              51   \n",
       "4           332      Clinton St & Lake St              66   \n",
       "\n",
       "                   endStationName  endStationId  startLatitude  \\\n",
       "0           Clark St & Leland Ave         326.0        41.9665   \n",
       "1  Southport Ave & Irving Park Rd         318.0        41.9616   \n",
       "2        Wilton Ave & Belmont Ave         117.0        41.9401   \n",
       "3        Fairbanks Ct & Grand Ave          24.0        41.8846   \n",
       "4           Wells St & Hubbard St         212.0        41.8856   \n",
       "\n",
       "   startLongitude  endLatitude  endLongitude isMember   weekday  hours  \n",
       "0        -87.6884      41.9671      -87.6674      Yes   Tuesday     20  \n",
       "1        -87.6660      41.9542      -87.6644      Yes  Thursday     14  \n",
       "2        -87.6455      41.9402      -87.6530      Yes  Thursday     19  \n",
       "3        -87.6319      41.8918      -87.6206      Yes    Monday     16  \n",
       "4        -87.6418      41.8899      -87.6343      Yes  Thursday      8  "
      ]
     },
     "execution_count": 13,
     "metadata": {},
     "output_type": "execute_result"
    }
   ],
   "source": [
    "bikes.head()"
   ]
  },
  {
   "cell_type": "code",
   "execution_count": 14,
   "id": "8c771c92-ba79-40f4-8646-a8e9bf95259a",
   "metadata": {},
   "outputs": [],
   "source": [
    "num_ride_hour = bikes.groupby('hours')['rideId'].count()"
   ]
  },
  {
   "cell_type": "code",
   "execution_count": 20,
   "id": "0a603995-cf40-41a0-9a59-2171b55cf605",
   "metadata": {},
   "outputs": [
    {
     "data": {
      "image/png": "[encoded data removed]",
      "text/plain": [
       "<Figure size 640x480 with 1 Axes>"
      ]
     },
     "metadata": {},
     "output_type": "display_data"
    }
   ],
   "source": [
    "plt.plot(num_ride_hour,linestyle='-')\n",
    "\n",
    "hours = [hour for hour, df in bikes.groupby('hours')]\n",
    "plt.xticks(hours)\n",
    "plt.title('Trip Count by Hour')\n",
    "plt.ylabel('Number of Trips')\n",
    "plt.xlabel('Houe of the Day')\n",
    "plt.grid(axis='y')\n",
    "\n",
    "plt.show()"
   ]
  },
  {
   "cell_type": "markdown",
   "id": "c7aa52f5-89ae-4f31-b211-0084f42973f8",
   "metadata": {},
   "source": [
    "#### Task #4: What are the most popular stations? And the least?"
   ]
  },
  {
   "cell_type": "code",
   "execution_count": 31,
   "id": "b753f9be-a397-413b-b417-1895a2cd338f",
   "metadata": {},
   "outputs": [],
   "source": [
    "start_station_usage = bikes.groupby('startStationId')['rideId'].count().sort_values(ascending=False)"
   ]
  },
  {
   "cell_type": "code",
   "execution_count": 50,
   "id": "ff54d23b-283c-4ad4-aa09-5b734ede6a76",
   "metadata": {},
   "outputs": [
    {
     "data": {
      "text/plain": [
       "startStationId\n",
       "192    7813\n",
       "77     6797\n",
       "91     5941\n",
       "133    4626\n",
       "195    4425\n",
       "675    3767\n",
       "287    3711\n",
       "174    3637\n",
       "66     3580\n",
       "48     3550\n",
       "43     3533\n",
       "81     3269\n",
       "283    3174\n",
       "110    3147\n",
       "49     3086\n",
       "52     3084\n",
       "36     3060\n",
       "56     3029\n",
       "53     2968\n",
       "176    2954\n",
       "211    2859\n",
       "199    2808\n",
       "212    2744\n",
       "71     2681\n",
       "59     2565\n",
       "100    2560\n",
       "74     2554\n",
       "289    2486\n",
       "35     2464\n",
       "255    2419\n",
       "Name: rideId, dtype: int64"
      ]
     },
     "execution_count": 50,
     "metadata": {},
     "output_type": "execute_result"
    }
   ],
   "source": [
    "start_station_usage.head(30)"
   ]
  },
  {
   "cell_type": "code",
   "execution_count": 52,
   "id": "27c5e7cf-6f7f-4d2d-bc25-8b57a2cffa8f",
   "metadata": {},
   "outputs": [
    {
     "data": {
      "text/plain": [
       "startStationId\n",
       "533    2\n",
       "562    2\n",
       "648    2\n",
       "650    2\n",
       "651    2\n",
       "541    2\n",
       "567    2\n",
       "537    1\n",
       "582    1\n",
       "578    1\n",
       "Name: rideId, dtype: int64"
      ]
     },
     "execution_count": 52,
     "metadata": {},
     "output_type": "execute_result"
    }
   ],
   "source": [
    "start_station_usage.tail(10)"
   ]
  },
  {
   "cell_type": "code",
   "execution_count": 47,
   "id": "9d3a7006-ac41-4a83-a61e-62b3b0d91d24",
   "metadata": {},
   "outputs": [],
   "source": [
    "end_station_usage = bikes.groupby('endStationId')['rideId'].count().sort_values(ascending = False)"
   ]
  },
  {
   "cell_type": "code",
   "execution_count": 51,
   "id": "29dc5ec6-028b-480f-bd15-1e724df60d07",
   "metadata": {},
   "outputs": [
    {
     "data": {
      "text/plain": [
       "endStationId\n",
       "192    8323\n",
       "91     7166\n",
       "77     6854\n",
       "133    4615\n",
       "43     4227\n",
       "675    3766\n",
       "287    3748\n",
       "174    3706\n",
       "66     3646\n",
       "211    3618\n",
       "81     3369\n",
       "110    3307\n",
       "48     3252\n",
       "176    3188\n",
       "52     3166\n",
       "49     3159\n",
       "283    3105\n",
       "195    2868\n",
       "212    2849\n",
       "59     2840\n",
       "71     2830\n",
       "36     2816\n",
       "35     2756\n",
       "199    2729\n",
       "56     2681\n",
       "53     2665\n",
       "47     2664\n",
       "90     2618\n",
       "289    2424\n",
       "51     2417\n",
       "Name: rideId, dtype: int64"
      ]
     },
     "execution_count": 51,
     "metadata": {},
     "output_type": "execute_result"
    }
   ],
   "source": [
    "end_station_usage.head(30)"
   ]
  },
  {
   "cell_type": "code",
   "execution_count": 53,
   "id": "e7a82d62-d04f-4a6f-8f73-4692a3786820",
   "metadata": {},
   "outputs": [
    {
     "data": {
      "text/plain": [
       "endStationId\n",
       "647    2\n",
       "567    2\n",
       "579    2\n",
       "384    1\n",
       "545    1\n",
       "578    1\n",
       "537    1\n",
       "588    1\n",
       "593    1\n",
       "0      1\n",
       "Name: rideId, dtype: int64"
      ]
     },
     "execution_count": 53,
     "metadata": {},
     "output_type": "execute_result"
    }
   ],
   "source": [
    "end_station_usage.tail(10)"
   ]
  },
  {
   "cell_type": "code",
   "execution_count": null,
   "id": "a2fd899f-6054-40c6-8b76-b7b409e30177",
   "metadata": {},
   "outputs": [],
   "source": []
  }
 ],
 "metadata": {
  "kernelspec": {
   "display_name": "Python 3 (ipykernel)",
   "language": "python",
   "name": "python3"
  },
  "language_info": {
   "codemirror_mode": {
    "name": "ipython",
    "version": 3
   },
   "file_extension": ".py",
   "mimetype": "text/x-python",
   "name": "python",
   "nbconvert_exporter": "python",
   "pygments_lexer": "ipython3",
   "version": "3.10.5"
  }
 },
 "nbformat": 4,
 "nbformat_minor": 5
}
